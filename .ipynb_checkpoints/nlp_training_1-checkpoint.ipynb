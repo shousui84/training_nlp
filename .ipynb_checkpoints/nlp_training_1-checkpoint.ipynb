{
 "cells": [
  {
   "cell_type": "code",
   "execution_count": 14,
   "id": "ecb156ce",
   "metadata": {},
   "outputs": [
    {
     "name": "stdout",
     "output_type": "stream",
     "text": [
      "desserts\n"
     ]
    }
   ],
   "source": [
    "text = \"stressed\"\n",
    "print(\"\".join([t for t in reversed(text)]))"
   ]
  },
  {
   "cell_type": "code",
   "execution_count": 21,
   "id": "a4d0223a",
   "metadata": {},
   "outputs": [
    {
     "name": "stdout",
     "output_type": "stream",
     "text": [
      "パトカー\n"
     ]
    }
   ],
   "source": [
    "text = \"パタトクカシーー\"\n",
    "print(text[0:8:2])"
   ]
  },
  {
   "cell_type": "code",
   "execution_count": 27,
   "id": "e6749c3e",
   "metadata": {},
   "outputs": [
    {
     "name": "stdout",
     "output_type": "stream",
     "text": [
      "パタトクカシーー\n"
     ]
    }
   ],
   "source": [
    "text1 = \"パトカー\"\n",
    "text2 = \"タクシー\"\n",
    "print(\"\".join([\"\".join(tup) for tup in zip(text1,text2)]))"
   ]
  },
  {
   "cell_type": "code",
   "execution_count": 36,
   "id": "76b17489",
   "metadata": {},
   "outputs": [
    {
     "name": "stdout",
     "output_type": "stream",
     "text": [
      "[3, 1, 4, 1, 6, 9, 2, 7, 5, 3, 5, 8, 9, 7, 10]\n"
     ]
    }
   ],
   "source": [
    "text = \"Now I need a drink, alcoholic of course, after the heavy lectures involving quantum mechanics.\"\n",
    "print([length for length in map(len,text.split(\" \"))])"
   ]
  },
  {
   "cell_type": "code",
   "execution_count": 47,
   "id": "9c2aa15a",
   "metadata": {},
   "outputs": [
    {
     "name": "stdout",
     "output_type": "stream",
     "text": [
      "{0: 'i', 1: 'H', 2: 'i', 3: 'e', 4: 'o', 5: 'C', 6: 'N', 7: 'O', 8: 'F', 9: 'N', 10: 'a', 11: 'i', 12: 'l', 13: 'i', 14: 'e', 15: 'S', 16: 'C', 17: 'r', 18: 'i', 19: 'C'}\n"
     ]
    }
   ],
   "source": [
    "text = \"Hi He Lied Because Boron Could Not Oxidize Fluorine. New Nations Might Also Sign Peace Security Clause. Arthur King Can.\"\n",
    "words = text.split(\" \")\n",
    "dic = {}\n",
    "for index,word in enumerate(words):\n",
    "    if index in [1, 5, 6, 7, 8, 9, 15, 16, 19]:\n",
    "        dic[index] = word[0]\n",
    "    else:\n",
    "        dic[index] = word[1]\n",
    "print(dic)"
   ]
  },
  {
   "cell_type": "code",
   "execution_count": 55,
   "id": "24908a27",
   "metadata": {},
   "outputs": [
    {
     "data": {
      "text/plain": [
       "[('I', 'am'), ('am', 'an'), ('an', 'NLPer')]"
      ]
     },
     "execution_count": 55,
     "metadata": {},
     "output_type": "execute_result"
    }
   ],
   "source": [
    "def word_ngram(n:int,words:list) -> list[tuple]:\n",
    "    return [(words[index],words[index + 1]) for index in range(len(words)-1)]\n",
    "text = \"I am an NLPer\"\n",
    "word_ngram(2,text.split(\" \"))"
   ]
  },
  {
   "cell_type": "code",
   "execution_count": 61,
   "id": "8a92e5f5",
   "metadata": {},
   "outputs": [
    {
     "data": {
      "text/plain": [
       "[('I', ' '),\n",
       " (' ', 'a'),\n",
       " ('a', 'm'),\n",
       " ('m', ' '),\n",
       " (' ', 'a'),\n",
       " ('a', 'n'),\n",
       " ('n', ' '),\n",
       " (' ', 'N'),\n",
       " ('N', 'L'),\n",
       " ('L', 'P'),\n",
       " ('P', 'e'),\n",
       " ('e', 'r')]"
      ]
     },
     "execution_count": 61,
     "metadata": {},
     "output_type": "execute_result"
    }
   ],
   "source": [
    "def char_ngram(n:int,text:str):\n",
    "    return [(text[index],text[index + 1]) for index in range(len(text)-1)]\n",
    "text = \"I am an NLPer\"\n",
    "char_ngram(2,text)"
   ]
  },
  {
   "cell_type": "code",
   "execution_count": 68,
   "id": "138a944c",
   "metadata": {},
   "outputs": [
    {
     "name": "stdout",
     "output_type": "stream",
     "text": [
      "{('a', 'g'), ('a', 'r'), ('d', 'i'), ('a', 'd'), ('i', 's'), ('s', 'e'), ('a', 'p'), ('g', 'r'), ('p', 'a'), ('r', 'a'), ('p', 'h')}\n",
      "{('a', 'p'), ('p', 'a'), ('a', 'r'), ('r', 'a')}\n",
      "{('i', 's'), ('s', 'e'), ('d', 'i'), ('a', 'd')}\n",
      "True\n",
      "False\n"
     ]
    }
   ],
   "source": [
    "text1 = \"paraparaparadise\"\n",
    "text2 = \"paragraph\"\n",
    "X = set(char_ngram(2,text1))\n",
    "Y = set(char_ngram(2,text2))\n",
    "print(X | Y)\n",
    "print(X & Y)\n",
    "print(X - Y)\n",
    "print((\"s\",\"e\") in X)\n",
    "print((\"s\",\"e\") in Y)"
   ]
  },
  {
   "cell_type": "code",
   "execution_count": 69,
   "id": "41c73db2",
   "metadata": {},
   "outputs": [
    {
     "data": {
      "text/plain": [
       "'12時の気温は22.4'"
      ]
     },
     "execution_count": 69,
     "metadata": {},
     "output_type": "execute_result"
    }
   ],
   "source": [
    "def mk_text(x:int,y:str,z:float) -> str:\n",
    "    return f\"{x}時の{y}は{z}\"\n",
    "mk_text(x=12, y=\"気温\", z=22.4)"
   ]
  },
  {
   "cell_type": "code",
   "execution_count": 91,
   "id": "fc220af2",
   "metadata": {},
   "outputs": [
    {
     "name": "stdout",
     "output_type": "stream",
     "text": [
      "True\n"
     ]
    }
   ],
   "source": [
    "def cipher(text:str) -> str:\n",
    "    sentenses = []\n",
    "    for char in text:\n",
    "        if char.islower():\n",
    "            sentenses.append(chr(219-ord(char)))\n",
    "        else:\n",
    "            sentenses.append(char)\n",
    "    return \"\".join(sentenses)\n",
    "\n",
    "text = \"PaRapaRapAradiSe\"\n",
    "cipher_text = cipher(text)\n",
    "print(text == cipher(cipher_text))"
   ]
  },
  {
   "cell_type": "code",
   "execution_count": 85,
   "id": "624e3d00",
   "metadata": {},
   "outputs": [
    {
     "data": {
      "text/plain": [
       "'orwd'"
      ]
     },
     "execution_count": 85,
     "metadata": {},
     "output_type": "execute_result"
    }
   ],
   "source": [
    "\n",
    "text_shuffle(\"word\")"
   ]
  },
  {
   "cell_type": "code",
   "execution_count": 90,
   "id": "bfdad703",
   "metadata": {},
   "outputs": [
    {
     "name": "stdout",
     "output_type": "stream",
     "text": [
      "I cl’duont bieevle that I cuold atallucy uenartsdnd what I was rdaineg : the pnneomahel peowr of the haumn mind .\n"
     ]
    }
   ],
   "source": [
    "import random\n",
    "def text_shuffle(text:str) -> str:\n",
    "    text_list = list(text)\n",
    "    random.shuffle(text_list)\n",
    "    return \"\".join(text_list)\n",
    "\n",
    "text = \"I couldn’t believe that I could actually understand what I was reading : the phenomenal power of the human mind .\"\n",
    "words = text.split(\" \")\n",
    "result = []\n",
    "for word in words:\n",
    "    if len(word) > 4:\n",
    "        word = word[0] + text_shuffle(word[1:-1]) + word[-1]\n",
    "    result.append(word)\n",
    "print(\" \".join(result))"
   ]
  },
  {
   "cell_type": "code",
   "execution_count": null,
   "id": "1b6be531",
   "metadata": {},
   "outputs": [],
   "source": []
  }
 ],
 "metadata": {
  "kernelspec": {
   "display_name": "Python 3 (ipykernel)",
   "language": "python",
   "name": "python3"
  },
  "language_info": {
   "codemirror_mode": {
    "name": "ipython",
    "version": 3
   },
   "file_extension": ".py",
   "mimetype": "text/x-python",
   "name": "python",
   "nbconvert_exporter": "python",
   "pygments_lexer": "ipython3",
   "version": "3.10.9"
  }
 },
 "nbformat": 4,
 "nbformat_minor": 5
}
